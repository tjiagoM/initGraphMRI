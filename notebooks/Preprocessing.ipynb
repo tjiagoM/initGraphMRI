{
 "cells": [
  {
   "cell_type": "code",
   "execution_count": 22,
   "metadata": {
    "collapsed": true
   },
   "outputs": [],
   "source": [
    "import nipype\n",
    "import os\n",
    "\n",
    "from nipype.interfaces.fsl import Info, MCFLIRT, FSLCommand, MeanImage\n",
    "from nipype.interfaces.freesurfer import BBRegister\n",
    "from nipype.interfaces.ants import Registration\n"
   ]
  },
  {
   "cell_type": "markdown",
   "metadata": {},
   "source": [
    "# Settings"
   ]
  },
  {
   "cell_type": "code",
   "execution_count": 26,
   "metadata": {},
   "outputs": [],
   "source": [
    "curr_dir = os.getcwd()\n",
    "main_dir = os.pardir\n",
    "data_dir = os.path.join(main_dir, 'data')\n",
    "\n",
    "\n",
    "subjects_list = ['sub-10159', 'sub-50004']\n",
    "\n",
    "FSLCommand.set_default_output_type('NIFTI_GZ')\n",
    "# location of template file\n",
    "template = Info.standard_image('MNI152_T1_2mm.nii.gz')"
   ]
  },
  {
   "cell_type": "markdown",
   "metadata": {},
   "source": [
    "# Load data"
   ]
  },
  {
   "cell_type": "code",
   "execution_count": 8,
   "metadata": {},
   "outputs": [],
   "source": [
    "from nipype.pipeline.engine import MapNode, Node, Workflow\n",
    "from nipype.interfaces.io import DataSink, DataGrabber\n",
    "from nipype.interfaces.utility import IdentityInterface, Function"
   ]
  },
  {
   "cell_type": "markdown",
   "metadata": {},
   "source": [
    "# Preprocess data"
   ]
  },
  {
   "cell_type": "code",
   "execution_count": 23,
   "metadata": {},
   "outputs": [],
   "source": [
    "# Create input node. This is where you are specify where you data comes from.\n",
    "infosource = Node(interface=IdentityInterface(fields=['subject_id']), name='InfoSource')\n",
    "infosource.iterables = ('subject_id', subjects_list)\n",
    "\n",
    "datasource = Node(interface=DataGrabber(infields=['subject_id'],\n",
    "                                       outfields=['anat', 'rest', 'task']), name='datasource')\n",
    "datasource.inputs.base_directory = main_dir\n",
    "datasource.inputs.template = '*'\n",
    "datasource.inputs.sort_filelist = True\n",
    "datasource.inputs.field_template = dict(rest=os.path.join('%s', 'func', '%s_task_rest_bold.nii.gz'), \n",
    "                                        task=os.path.join('%s', 'func', '%s_task_taskswitch_bold.nii.gz'),\n",
    "                                        anat=os.path.join('%s', 'anat', '%s_T1w.nii.gz'))\n",
    "datasource.inputs.template_args = dict(rest=[['subject_id', 'subject_id']],\n",
    "                                       task=[['subject_id', 'subject_id']],\n",
    "                                       anat=[['subject_id', 'subject_id']])\n",
    "datasource.inputs.subject_id = subjects_list"
   ]
  },
  {
   "cell_type": "code",
   "execution_count": 27,
   "metadata": {},
   "outputs": [],
   "source": [
    "# Create data sink. This is where your data is going to be saved\n",
    "data_sink = Node(DataSink(), name='DataSink')\n",
    "data_sink.inputs.base_directory = os.path.join(data_dir, 'preprocessing_out')\n",
    "substitutions = [('_subject_id', ''),\n",
    "                 ('_warpall0', 'warpall')]\n",
    "\n",
    "# Node 0: Motion correction\n",
    "mot_par = Node(MCFLIRT(), name='motion_correction')\n",
    "\n",
    "# Node:\n",
    "# Corregister the median to surface\n",
    "bbreg = Node(BBRegister(), name='bbRegister')\n",
    "bbreg.inputs.init = 'fsl'\n",
    "bbreg.inputs.contrast_type = 't2'\n",
    "bbreg.inputs.out_fsl_file = True\n",
    "bbreg.inputs.subjects_dir = data_dir\n",
    "\n",
    "\n",
    "# Node 1: Generate Mean Image\n",
    "# Generate mean image - only for the EPI image\n",
    "mean_image = Node(MeanImage(), name='Mean_Image')\n",
    "    \n",
    "# Node 2: Registration: T1 - MNI\n",
    "# parameters from:\n",
    "# http://miykael.github.io/nipype-beginner-s-guide/normalize.html\n",
    "antsreg = Node(Registration(), name='antsreg')\n",
    "antsreg.inputs.args = '--float'\n",
    "# antsreg.inputs.collapse_output_transforms = True\n",
    "antsreg.inputs.fixed_image = template\n",
    "antsreg.inputs.initial_moving_transform_com = True\n",
    "antsreg.inputs.num_threads = 8\n",
    "antsreg.inputs.output_warped_image = True\n",
    "antsreg.inputs.output_inverse_warped_image = True\n",
    "antsreg.inputs.sigma_units = ['vox']*3\n",
    "antsreg.inputs.transforms = ['Rigid', 'Affine', 'SyN']\n",
    "antsreg.inputs.terminal_output = 'file'\n",
    "antsreg.inputs.winsorize_lower_quantile = 0.005\n",
    "antsreg.inputs.winsorize_upper_quantile = 0.995\n",
    "antsreg.inputs.convergence_threshold = [1e-06]\n",
    "antsreg.inputs.metric = ['MI', 'MI', 'CC']\n",
    "antsreg.inputs.metric_weight = [1.0]*3\n",
    "antsreg.inputs.number_of_iterations = [[1000, 500, 250, 100],\n",
    "                                       [1000, 500, 250, 100],\n",
    "                                       [100,   70,  50,  20]]\n",
    "antsreg.inputs.radius_or_number_of_bins = [32,32,4]\n",
    "antsreg.inputs.sampling_percentage = [0.25, 0.25, 1]\n",
    "antsreg.inputs.sampling_strategy = ['Regular', 'Regular', 'None']\n",
    "antsreg.inputs.shrink_factors = [[8,4,2,1]]*3\n",
    "antsreg.inputs.smoothing_sigmas = [[3, 2, 1, 0]]*3\n",
    "antsreg.inputs.transform_parameters = [(0.1,), (0.1,), (0.1, 3.0, 0.0)]\n",
    "antsreg.inputs.use_histogram_matching = True\n",
    "antsreg.inputs.write_composite_transform = True\n",
    "antsreg.inputs.save_state = 'savestate.mat'\n",
    "\n",
    "\n",
    "\n",
    "\n",
    "# Node 3: Rest - MNI"
   ]
  },
  {
   "cell_type": "code",
   "execution_count": 30,
   "metadata": {},
   "outputs": [
    {
     "name": "stdout",
     "output_type": "stream",
     "text": [
      "170926-11:21:18,104 workflow INFO:\n",
      "\t Workflow preprocessing settings: ['check', 'execution', 'logging']\n"
     ]
    },
    {
     "ename": "AttributeError",
     "evalue": "'DiGraph' object has no attribute 'out_edges_iter'",
     "output_type": "error",
     "traceback": [
      "\u001b[0;31m---------------------------------------------------------------------------\u001b[0m",
      "\u001b[0;31mAttributeError\u001b[0m                            Traceback (most recent call last)",
      "\u001b[0;32m<ipython-input-30-6ac1f785c4bc>\u001b[0m in \u001b[0;36m<module>\u001b[0;34m()\u001b[0m\n\u001b[1;32m     20\u001b[0m \u001b[0;34m\u001b[0m\u001b[0m\n\u001b[1;32m     21\u001b[0m \u001b[0;31m# Run pipeline\u001b[0m\u001b[0;34m\u001b[0m\u001b[0;34m\u001b[0m\u001b[0m\n\u001b[0;32m---> 22\u001b[0;31m \u001b[0mpreproc\u001b[0m\u001b[0;34m.\u001b[0m\u001b[0mrun\u001b[0m\u001b[0;34m(\u001b[0m\u001b[0;34m)\u001b[0m\u001b[0;34m\u001b[0m\u001b[0m\n\u001b[0m",
      "\u001b[0;32m~/Dropbox/Code/neurohackweek/nhw-env/lib/python3.6/site-packages/nipype/pipeline/engine/workflows.py\u001b[0m in \u001b[0;36mrun\u001b[0;34m(self, plugin, plugin_args, updatehash)\u001b[0m\n\u001b[1;32m    577\u001b[0m             \u001b[0;32mdel\u001b[0m \u001b[0mself\u001b[0m\u001b[0;34m.\u001b[0m\u001b[0mconfig\u001b[0m\u001b[0;34m[\u001b[0m\u001b[0;34m'crashdump_dir'\u001b[0m\u001b[0;34m]\u001b[0m\u001b[0;34m\u001b[0m\u001b[0m\n\u001b[1;32m    578\u001b[0m         \u001b[0mlogger\u001b[0m\u001b[0;34m.\u001b[0m\u001b[0minfo\u001b[0m\u001b[0;34m(\u001b[0m\u001b[0;34m'Workflow %s settings: %s'\u001b[0m\u001b[0;34m,\u001b[0m \u001b[0mself\u001b[0m\u001b[0;34m.\u001b[0m\u001b[0mname\u001b[0m\u001b[0;34m,\u001b[0m \u001b[0mto_str\u001b[0m\u001b[0;34m(\u001b[0m\u001b[0msorted\u001b[0m\u001b[0;34m(\u001b[0m\u001b[0mself\u001b[0m\u001b[0;34m.\u001b[0m\u001b[0mconfig\u001b[0m\u001b[0;34m)\u001b[0m\u001b[0;34m)\u001b[0m\u001b[0;34m)\u001b[0m\u001b[0;34m\u001b[0m\u001b[0m\n\u001b[0;32m--> 579\u001b[0;31m         \u001b[0mself\u001b[0m\u001b[0;34m.\u001b[0m\u001b[0m_set_needed_outputs\u001b[0m\u001b[0;34m(\u001b[0m\u001b[0mflatgraph\u001b[0m\u001b[0;34m)\u001b[0m\u001b[0;34m\u001b[0m\u001b[0m\n\u001b[0m\u001b[1;32m    580\u001b[0m         \u001b[0mexecgraph\u001b[0m \u001b[0;34m=\u001b[0m \u001b[0mgenerate_expanded_graph\u001b[0m\u001b[0;34m(\u001b[0m\u001b[0mdeepcopy\u001b[0m\u001b[0;34m(\u001b[0m\u001b[0mflatgraph\u001b[0m\u001b[0;34m)\u001b[0m\u001b[0;34m)\u001b[0m\u001b[0;34m\u001b[0m\u001b[0m\n\u001b[1;32m    581\u001b[0m         \u001b[0;32mfor\u001b[0m \u001b[0mindex\u001b[0m\u001b[0;34m,\u001b[0m \u001b[0mnode\u001b[0m \u001b[0;32min\u001b[0m \u001b[0menumerate\u001b[0m\u001b[0;34m(\u001b[0m\u001b[0mexecgraph\u001b[0m\u001b[0;34m.\u001b[0m\u001b[0mnodes\u001b[0m\u001b[0;34m(\u001b[0m\u001b[0;34m)\u001b[0m\u001b[0;34m)\u001b[0m\u001b[0;34m:\u001b[0m\u001b[0;34m\u001b[0m\u001b[0m\n",
      "\u001b[0;32m~/Dropbox/Code/neurohackweek/nhw-env/lib/python3.6/site-packages/nipype/pipeline/engine/workflows.py\u001b[0m in \u001b[0;36m_set_needed_outputs\u001b[0;34m(self, graph)\u001b[0m\n\u001b[1;32m    670\u001b[0m         \u001b[0;32mfor\u001b[0m \u001b[0mnode\u001b[0m \u001b[0;32min\u001b[0m \u001b[0mgraph\u001b[0m\u001b[0;34m.\u001b[0m\u001b[0mnodes\u001b[0m\u001b[0;34m(\u001b[0m\u001b[0;34m)\u001b[0m\u001b[0;34m:\u001b[0m\u001b[0;34m\u001b[0m\u001b[0m\n\u001b[1;32m    671\u001b[0m             \u001b[0mnode\u001b[0m\u001b[0;34m.\u001b[0m\u001b[0mneeded_outputs\u001b[0m \u001b[0;34m=\u001b[0m \u001b[0;34m[\u001b[0m\u001b[0;34m]\u001b[0m\u001b[0;34m\u001b[0m\u001b[0m\n\u001b[0;32m--> 672\u001b[0;31m             \u001b[0;32mfor\u001b[0m \u001b[0medge\u001b[0m \u001b[0;32min\u001b[0m \u001b[0mgraph\u001b[0m\u001b[0;34m.\u001b[0m\u001b[0mout_edges_iter\u001b[0m\u001b[0;34m(\u001b[0m\u001b[0mnode\u001b[0m\u001b[0;34m)\u001b[0m\u001b[0;34m:\u001b[0m\u001b[0;34m\u001b[0m\u001b[0m\n\u001b[0m\u001b[1;32m    673\u001b[0m                 \u001b[0mdata\u001b[0m \u001b[0;34m=\u001b[0m \u001b[0mgraph\u001b[0m\u001b[0;34m.\u001b[0m\u001b[0mget_edge_data\u001b[0m\u001b[0;34m(\u001b[0m\u001b[0;34m*\u001b[0m\u001b[0medge\u001b[0m\u001b[0;34m)\u001b[0m\u001b[0;34m\u001b[0m\u001b[0m\n\u001b[1;32m    674\u001b[0m                 sourceinfo = [v1[0] if isinstance(v1, tuple) else v1\n",
      "\u001b[0;31mAttributeError\u001b[0m: 'DiGraph' object has no attribute 'out_edges_iter'"
     ]
    }
   ],
   "source": [
    "# Specify input and output Node\n",
    "# ------------------------------\n",
    "data_sink.inputs.substitutions = substitutions\n",
    "\n",
    "# Define workflow name and where output will be saved\n",
    "preproc = Workflow(name='preprocessing')\n",
    "preproc.base_dir = data_dir\n",
    "\n",
    "# Define connection between nodes\n",
    "preproc.connect([ \n",
    "                (infosource, datasource, [('subject_id', 'subject_id')] ),\n",
    "                # get motion parameters\n",
    "                (datasource, mot_par,     [('rest', 'in_file')] ),\n",
    "                (mot_par, data_sink,      [('par_file', 'mcflirt.par_file')] ),\n",
    "                # get mean image (functional data)\n",
    "                #(mot_par, mean_image,     [('out_file', 'in_file')]),\n",
    "                #(infosource, bbreg,       [('subject_id', 'subject_id')]),\n",
    "                #(mean_image, bbreg,       [('out_file', 'source_file')])\n",
    "                ])\n",
    "\n",
    "# Run pipeline\n",
    "preproc.run()"
   ]
  },
  {
   "cell_type": "code",
   "execution_count": 32,
   "metadata": {},
   "outputs": [
    {
     "data": {
      "text/plain": [
       "'2.0'"
      ]
     },
     "execution_count": 32,
     "metadata": {},
     "output_type": "execute_result"
    }
   ],
   "source": [
    "import networkx\n",
    "networkx.__version__\n"
   ]
  }
 ],
 "metadata": {
  "kernelspec": {
   "display_name": "Python 3",
   "language": "python",
   "name": "python3"
  },
  "language_info": {
   "codemirror_mode": {
    "name": "ipython",
    "version": 3
   },
   "file_extension": ".py",
   "mimetype": "text/x-python",
   "name": "python",
   "nbconvert_exporter": "python",
   "pygments_lexer": "ipython3",
   "version": "3.6.1"
  }
 },
 "nbformat": 4,
 "nbformat_minor": 2
}
